{
 "cells": [
  {
   "cell_type": "markdown",
   "metadata": {},
   "source": [
    "### Importing the libraries needed to complete the assignment  "
   ]
  },
  {
   "cell_type": "code",
   "execution_count": 2,
   "metadata": {},
   "outputs": [],
   "source": [
    "import numpy as np \n",
    "import pandas as pd \n",
    "from sklearn import metrics\n",
    "from sklearn import preprocessing\n",
    "from sklearn.preprocessing import Normalizer\n",
    "from sklearn.tree import DecisionTreeClassifier \n",
    "from sklearn.model_selection import train_test_split \n",
    "from sklearn.ensemble import RandomForestClassifier\n",
    "from sklearn.model_selection import cross_val_score\n",
    "from sklearn.naive_bayes import MultinomialNB\n",
    "from sklearn.model_selection import RandomizedSearchCV\n",
    "from sklearn import neighbors\n",
    "from sklearn.neighbors import KNeighborsClassifier"
   ]
  },
  {
   "cell_type": "markdown",
   "metadata": {},
   "source": [
    "#Reading in the CSV file, ensuring the missing values are recognized when reading in the file and naming the columns \n",
    "#Viewing the first couple of columns of the data to endure colum names appear and see if missing values are recognized "
   ]
  },
  {
   "cell_type": "code",
   "execution_count": 17,
   "metadata": {},
   "outputs": [
    {
     "data": {
      "text/html": [
       "<div>\n",
       "<style scoped>\n",
       "    .dataframe tbody tr th:only-of-type {\n",
       "        vertical-align: middle;\n",
       "    }\n",
       "\n",
       "    .dataframe tbody tr th {\n",
       "        vertical-align: top;\n",
       "    }\n",
       "\n",
       "    .dataframe thead th {\n",
       "        text-align: right;\n",
       "    }\n",
       "</style>\n",
       "<table border=\"1\" class=\"dataframe\">\n",
       "  <thead>\n",
       "    <tr style=\"text-align: right;\">\n",
       "      <th></th>\n",
       "      <th>BI-RADS</th>\n",
       "      <th>Age</th>\n",
       "      <th>Shape</th>\n",
       "      <th>Margin</th>\n",
       "      <th>Density</th>\n",
       "      <th>Severity</th>\n",
       "    </tr>\n",
       "  </thead>\n",
       "  <tbody>\n",
       "    <tr>\n",
       "      <th>0</th>\n",
       "      <td>5.0</td>\n",
       "      <td>67.0</td>\n",
       "      <td>3.0</td>\n",
       "      <td>5.0</td>\n",
       "      <td>3.0</td>\n",
       "      <td>yes</td>\n",
       "    </tr>\n",
       "    <tr>\n",
       "      <th>1</th>\n",
       "      <td>4.0</td>\n",
       "      <td>43.0</td>\n",
       "      <td>1.0</td>\n",
       "      <td>1.0</td>\n",
       "      <td>NaN</td>\n",
       "      <td>yes</td>\n",
       "    </tr>\n",
       "    <tr>\n",
       "      <th>2</th>\n",
       "      <td>5.0</td>\n",
       "      <td>58.0</td>\n",
       "      <td>4.0</td>\n",
       "      <td>5.0</td>\n",
       "      <td>3.0</td>\n",
       "      <td>yes</td>\n",
       "    </tr>\n",
       "    <tr>\n",
       "      <th>3</th>\n",
       "      <td>4.0</td>\n",
       "      <td>28.0</td>\n",
       "      <td>1.0</td>\n",
       "      <td>1.0</td>\n",
       "      <td>3.0</td>\n",
       "      <td>no</td>\n",
       "    </tr>\n",
       "    <tr>\n",
       "      <th>4</th>\n",
       "      <td>5.0</td>\n",
       "      <td>74.0</td>\n",
       "      <td>1.0</td>\n",
       "      <td>5.0</td>\n",
       "      <td>NaN</td>\n",
       "      <td>yes</td>\n",
       "    </tr>\n",
       "  </tbody>\n",
       "</table>\n",
       "</div>"
      ],
      "text/plain": [
       "   BI-RADS   Age  Shape  Margin  Density Severity\n",
       "0      5.0  67.0    3.0     5.0      3.0      yes\n",
       "1      4.0  43.0    1.0     1.0      NaN      yes\n",
       "2      5.0  58.0    4.0     5.0      3.0      yes\n",
       "3      4.0  28.0    1.0     1.0      3.0       no\n",
       "4      5.0  74.0    1.0     5.0      NaN      yes"
      ]
     },
     "execution_count": 17,
     "metadata": {},
     "output_type": "execute_result"
    }
   ],
   "source": [
    "missing_values = [\"n/a\",\"na\",'?']\n",
    "column_names=['BI-RADS', 'Age', 'Shape', 'Margin', 'Density', 'Severity'] \n",
    "\n",
    "#reading in the csv file \n",
    "data = pd.read_csv(r\"ADD_YOUR_FILENAME_HERE.csv\", na_values = missing_values,names=column_names, header = None)\n",
    "\n",
    "#displaying the first couple of rows\n",
    "data.head()\n"
   ]
  },
  {
   "cell_type": "raw",
   "metadata": {},
   "source": [
    "Here we see that the file was read in correcty, column names appear and the null values are recognized as NaN"
   ]
  },
  {
   "cell_type": "markdown",
   "metadata": {},
   "source": [
    "#### Preprocessing the Data: Dropping the bi-rads column, dealing with missing values..(I used the median of eaxh column to fill in the missing  values of each column) and converting the content in the severity column to numeric (1 & 0)"
   ]
  },
  {
   "cell_type": "code",
   "execution_count": 18,
   "metadata": {},
   "outputs": [
    {
     "data": {
      "text/html": [
       "<div>\n",
       "<style scoped>\n",
       "    .dataframe tbody tr th:only-of-type {\n",
       "        vertical-align: middle;\n",
       "    }\n",
       "\n",
       "    .dataframe tbody tr th {\n",
       "        vertical-align: top;\n",
       "    }\n",
       "\n",
       "    .dataframe thead th {\n",
       "        text-align: right;\n",
       "    }\n",
       "</style>\n",
       "<table border=\"1\" class=\"dataframe\">\n",
       "  <thead>\n",
       "    <tr style=\"text-align: right;\">\n",
       "      <th></th>\n",
       "      <th>Age</th>\n",
       "      <th>Shape</th>\n",
       "      <th>Margin</th>\n",
       "      <th>Density</th>\n",
       "      <th>Severity</th>\n",
       "    </tr>\n",
       "  </thead>\n",
       "  <tbody>\n",
       "    <tr>\n",
       "      <th>0</th>\n",
       "      <td>67.0</td>\n",
       "      <td>3.0</td>\n",
       "      <td>5.0</td>\n",
       "      <td>3.0</td>\n",
       "      <td>1</td>\n",
       "    </tr>\n",
       "    <tr>\n",
       "      <th>1</th>\n",
       "      <td>43.0</td>\n",
       "      <td>1.0</td>\n",
       "      <td>1.0</td>\n",
       "      <td>3.0</td>\n",
       "      <td>1</td>\n",
       "    </tr>\n",
       "    <tr>\n",
       "      <th>2</th>\n",
       "      <td>58.0</td>\n",
       "      <td>4.0</td>\n",
       "      <td>5.0</td>\n",
       "      <td>3.0</td>\n",
       "      <td>1</td>\n",
       "    </tr>\n",
       "    <tr>\n",
       "      <th>3</th>\n",
       "      <td>28.0</td>\n",
       "      <td>1.0</td>\n",
       "      <td>1.0</td>\n",
       "      <td>3.0</td>\n",
       "      <td>0</td>\n",
       "    </tr>\n",
       "    <tr>\n",
       "      <th>4</th>\n",
       "      <td>74.0</td>\n",
       "      <td>1.0</td>\n",
       "      <td>5.0</td>\n",
       "      <td>3.0</td>\n",
       "      <td>1</td>\n",
       "    </tr>\n",
       "  </tbody>\n",
       "</table>\n",
       "</div>"
      ],
      "text/plain": [
       "    Age  Shape  Margin  Density  Severity\n",
       "0  67.0    3.0     5.0      3.0         1\n",
       "1  43.0    1.0     1.0      3.0         1\n",
       "2  58.0    4.0     5.0      3.0         1\n",
       "3  28.0    1.0     1.0      3.0         0\n",
       "4  74.0    1.0     5.0      3.0         1"
      ]
     },
     "execution_count": 18,
     "metadata": {},
     "output_type": "execute_result"
    }
   ],
   "source": [
    "# preprocessing the data \n",
    "#dropping the BI-RADS column \n",
    "data1 = data.drop(columns=\"BI-RADS\")\n",
    "\n",
    "#checking to ensure the bi-rads column has been dropped \n",
    "data1.head(10)\n",
    "\n",
    "#dealing with the missing values by using the median values in each column \n",
    "data1[data1.isnull().any(axis=1)]\n",
    "\n",
    "data2=data1.fillna(data1.median())\n",
    "\n",
    "data2.isnull()\n",
    "\n",
    "# converting the severity column to 1 and 0\n",
    "data2['Severity'] = data2['Severity'].map({'yes': 1, 'no': 0 })\n",
    "\n",
    "#displaying output after cleaning/preprocessing the data \n",
    "data2.head()\n"
   ]
  },
  {
   "cell_type": "markdown",
   "metadata": {},
   "source": [
    "#### Defining the column we are going to be predicting and normalizing the data "
   ]
  },
  {
   "cell_type": "code",
   "execution_count": 6,
   "metadata": {},
   "outputs": [],
   "source": [
    "#identifying the column we are predicting which is severity\n",
    "target=['Severity']\n",
    "not_target=['Age','Shape', 'Margin', 'Density']\n",
    " \n",
    "#normalizing the data \n",
    "Y=data2[target]\n",
    "\n",
    "normX=data2[not_target]\n",
    "\n",
    "normX.head()\n",
    "Y.head()\n",
    "\n",
    "norm=Normalizer().fit(normX)\n",
    "X = norm.transform(normX)\n",
    "\n"
   ]
  },
  {
   "cell_type": "markdown",
   "metadata": {},
   "source": [
    "##### Splitting the dataset into training set and test test.  Assigning test set 25%.  "
   ]
  },
  {
   "cell_type": "code",
   "execution_count": 9,
   "metadata": {},
   "outputs": [],
   "source": [
    "#splitting the dataset into training set and test set.  Setting aside 25% for test set and 75% for training set\n",
    "\n",
    "x_train,x_test, y_train,y_test= train_test_split(X,Y,test_size=0.25, train_size=0.75, random_state=1)"
   ]
  },
  {
   "cell_type": "markdown",
   "metadata": {},
   "source": [
    "### Decision Tree Model "
   ]
  },
  {
   "cell_type": "code",
   "execution_count": 10,
   "metadata": {},
   "outputs": [
    {
     "name": "stdout",
     "output_type": "stream",
     "text": [
      "Accuracy: 0.7468879668049793\n"
     ]
    }
   ],
   "source": [
    "#Decision tree & k-fold cross validation\n",
    "dtree = DecisionTreeClassifier()\n",
    "\n",
    "# training the model\n",
    "dtree = dtree.fit(x_train,y_train)\n",
    "\n",
    "#predicting the test dataset value\n",
    "y_pred = dtree.predict(x_test)\n",
    "\n",
    "# Model Accuracy, how often is the classifier correct?\n",
    "print(\"Accuracy:\",metrics.accuracy_score(y_test, y_pred))\n"
   ]
  },
  {
   "cell_type": "markdown",
   "metadata": {},
   "source": [
    "##### Decision tree model accuracy result was 74.69% as seen above "
   ]
  },
  {
   "cell_type": "markdown",
   "metadata": {},
   "source": [
    "#####  Running Decision Model again using the K-Fold Cross validation to measure accuracy of 10\n"
   ]
  },
  {
   "cell_type": "code",
   "execution_count": 11,
   "metadata": {},
   "outputs": [
    {
     "name": "stdout",
     "output_type": "stream",
     "text": [
      "0.7585375972146862\n"
     ]
    }
   ],
   "source": [
    "#using cross_val_score\n",
    "dtree=DecisionTreeClassifier()\n",
    "treeresult= cross_val_score(dtree,X,Y, cv=10)\n",
    "print(np.mean(treeresult))"
   ]
  },
  {
   "cell_type": "markdown",
   "metadata": {},
   "source": [
    "##### As you will see above, the result is 75.85%  thus indicating that the k-fold cross validation improved the results slightly "
   ]
  },
  {
   "cell_type": "markdown",
   "metadata": {},
   "source": [
    "### Random Forest Model "
   ]
  },
  {
   "cell_type": "code",
   "execution_count": 12,
   "metadata": {},
   "outputs": [
    {
     "name": "stdout",
     "output_type": "stream",
     "text": [
      "0.7585375972146862\n"
     ]
    }
   ],
   "source": [
    "#RANDOM FOREST\n",
    "rf=RandomForestClassifier(n_estimators=10, max_depth=2)\n",
    "rfcross= cross_val_score(rf,X,np.ravel(Y), cv=10)\n",
    "print(np.mean(treeresult))\n"
   ]
  },
  {
   "cell_type": "markdown",
   "metadata": {},
   "source": [
    "#####  As you see above, the result of the random forest using the k fold cross validation is 75.85%"
   ]
  },
  {
   "cell_type": "markdown",
   "metadata": {},
   "source": [
    "### KNN Model "
   ]
  },
  {
   "cell_type": "code",
   "execution_count": 14,
   "metadata": {},
   "outputs": [
    {
     "name": "stdout",
     "output_type": "stream",
     "text": [
      "k: 1 Acc: 0.6909956592512209\n",
      "k: 2 Acc: 0.6916788750226079\n",
      "k: 3 Acc: 0.7512011665762344\n",
      "k: 4 Acc: 0.7282276406221739\n",
      "k: 5 Acc: 0.7625196690179056\n",
      "k: 6 Acc: 0.7594054078495207\n",
      "k: 7 Acc: 0.772959169831796\n",
      "k: 8 Acc: 0.7657319361548199\n",
      "k: 9 Acc: 0.7710167977934527\n",
      "k: 10 Acc: 0.7793076279616566\n",
      "k: 11 Acc: 0.7813043724000723\n",
      "k: 12 Acc: 0.7782549963827092\n",
      "k: 13 Acc: 0.7823896726351963\n",
      "k: 14 Acc: 0.7771372535720744\n",
      "k: 15 Acc: 0.7771806610598662\n",
      "k: 16 Acc: 0.776171663049376\n",
      "k: 17 Acc: 0.7772350334599385\n",
      "k: 18 Acc: 0.7834857117019353\n",
      "k: 19 Acc: 0.7740229924036897\n",
      "k: 20 Acc: 0.7802951483089167\n",
      "k: 21 Acc: 0.7782661873756557\n",
      "k: 22 Acc: 0.7761609242177608\n",
      "k: 23 Acc: 0.7772135557967083\n",
      "k: 24 Acc: 0.7772135557967083\n",
      "k: 25 Acc: 0.7793512615301139\n",
      "k: 26 Acc: 0.7783095948634473\n",
      "k: 27 Acc: 0.7772352595406041\n",
      "k: 28 Acc: 0.7741100334599385\n",
      "k: 29 Acc: 0.7762043317055526\n",
      "k: 30 Acc: 0.7751517001266052\n",
      "k: 31 Acc: 0.7741641797793453\n",
      "k: 32 Acc: 0.7731115482003978\n",
      "k: 33 Acc: 0.7741641797793453\n",
      "k: 34 Acc: 0.7741424760354494\n",
      "k: 35 Acc: 0.7720589166214505\n",
      "k: 36 Acc: 0.7731115482003978\n",
      "k: 37 Acc: 0.7741424760354494\n",
      "k: 38 Acc: 0.7731115482003978\n",
      "k: 39 Acc: 0.7720806203653463\n",
      "k: 40 Acc: 0.7720589166214505\n",
      "k: 41 Acc: 0.7731439907759088\n",
      "k: 42 Acc: 0.7710496925302948\n",
      "k: 43 Acc: 0.7731549556881896\n",
      "k: 44 Acc: 0.7710496925302948\n",
      "k: 45 Acc: 0.7742075872671369\n",
      "k: 46 Acc: 0.7731873982637004\n",
      "k: 47 Acc: 0.7752709576776995\n",
      "k: 48 Acc: 0.7731766594320854\n",
      "k: 49 Acc: 0.7731659206004703\n",
      "k: 50 Acc: 0.7731549556881896\n"
     ]
    }
   ],
   "source": [
    "# KNN model \n",
    "#creating a for loop k to run values 1 to 50:\n",
    "# the range is set to 51 because knn will give you 1 less result so in order to get the loop to run and have 50 k's\n",
    "# I needed to increase k to 51\n",
    "\n",
    "for k in range(1, 51):\n",
    "    knn = KNeighborsClassifier(n_neighbors=k)\n",
    "    knn_res= cross_val_score(knn,X,np.ravel(Y), cv=10)\n",
    "    print(\"k:\",k,\"Acc:\",np.mean(knn_res))"
   ]
  },
  {
   "cell_type": "markdown",
   "metadata": {},
   "source": [
    "##### The result of the of the knn model when the accuracy (k=10) is 77.93%\n",
    "\n",
    "##### The best performance I could get out of KNN was K=18 and the result was 78.34%"
   ]
  },
  {
   "cell_type": "markdown",
   "metadata": {},
   "source": [
    "### Naive Bayes Model "
   ]
  },
  {
   "cell_type": "code",
   "execution_count": 15,
   "metadata": {},
   "outputs": [
    {
     "name": "stdout",
     "output_type": "stream",
     "text": [
      "0.7585375972146862\n"
     ]
    }
   ],
   "source": [
    "#Naive Bayes model\n",
    "new1 = MultinomialNB()\n",
    "bayes= cross_val_score(new1,X,np.ravel(Y), cv=10)\n",
    "print(np.mean(treeresult))\n"
   ]
  },
  {
   "cell_type": "markdown",
   "metadata": {},
   "source": [
    "###  The result of the model is 75.85%"
   ]
  }
 ],
 "metadata": {
  "kernelspec": {
   "display_name": "Python 3",
   "language": "python",
   "name": "python3"
  },
  "language_info": {
   "codemirror_mode": {
    "name": "ipython",
    "version": 3
   },
   "file_extension": ".py",
   "mimetype": "text/x-python",
   "name": "python",
   "nbconvert_exporter": "python",
   "pygments_lexer": "ipython3",
   "version": "3.7.0"
  }
 },
 "nbformat": 4,
 "nbformat_minor": 2
}
